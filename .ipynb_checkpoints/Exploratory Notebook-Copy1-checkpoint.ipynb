{
 "cells": [
  {
   "cell_type": "markdown",
   "metadata": {},
   "source": [
    "importing all relevant tools."
   ]
  },
  {
   "cell_type": "code",
   "execution_count": 1,
   "metadata": {},
   "outputs": [],
   "source": [
    "import pandas as pd\n",
    "import zipfile\n",
    "import sqlite3\n",
    "import os\n",
    "import scipy.stats as stats\n",
    "from scipy.stats import norm\n",
    "from scipy.stats import t\n",
    "from scipy.stats import ttest_ind\n",
    "import numpy as np\n",
    "import seaborn as sns\n",
    "import random\n",
    "import math\n",
    "import matplotlib.pyplot as plt\n",
    "%matplotlib inline"
   ]
  },
  {
   "cell_type": "markdown",
   "metadata": {},
   "source": [
    "checking folders"
   ]
  },
  {
   "cell_type": "code",
   "execution_count": 2,
   "metadata": {},
   "outputs": [
    {
     "name": "stdout",
     "output_type": "stream",
     "text": [
      "Exploratory Notebook.ipynb\n",
      "README.md\n",
      "data.sqlite\n",
      "extracted_data\n",
      "images\n",
      "movie_gross_df\n",
      "notebooks\n",
      "unzipped_data\n",
      "zippedData\n"
     ]
    }
   ],
   "source": [
    "! ls"
   ]
  },
  {
   "cell_type": "markdown",
   "metadata": {},
   "source": [
    "opening bom.movie_gross.csv.gz file"
   ]
  },
  {
   "cell_type": "code",
   "execution_count": 4,
   "metadata": {},
   "outputs": [
    {
     "data": {
      "text/plain": [
       "3387"
      ]
     },
     "execution_count": 4,
     "metadata": {},
     "output_type": "execute_result"
    }
   ],
   "source": [
    "path = 'zippedData/bom.movie_gross.csv.gz'\n",
    "movie_gross_df = pd.read_csv('zippedData/bom.movie_gross.csv.gz', compression='gzip', header=0, sep=',', quotechar='\"')\n",
    "conn = sqlite3.connect('data.sqlite')\n",
    "table_name = 'movie_gross_data'\n",
    "movie_gross_df.to_sql(table_name, conn, index=False, if_exists='replace')\n",
    "#movie_gross_df.head()\n",
    "#conn = sqlite3.connect('movie_gross_df')\n",
    "#df = pd.read_csv('filename.zip', compression='zip', header=0, sep=',', quotechar='\"')"
   ]
  },
  {
   "cell_type": "code",
   "execution_count": 5,
   "metadata": {},
   "outputs": [
    {
     "data": {
      "text/html": [
       "<div>\n",
       "<style scoped>\n",
       "    .dataframe tbody tr th:only-of-type {\n",
       "        vertical-align: middle;\n",
       "    }\n",
       "\n",
       "    .dataframe tbody tr th {\n",
       "        vertical-align: top;\n",
       "    }\n",
       "\n",
       "    .dataframe thead th {\n",
       "        text-align: right;\n",
       "    }\n",
       "</style>\n",
       "<table border=\"1\" class=\"dataframe\">\n",
       "  <thead>\n",
       "    <tr style=\"text-align: right;\">\n",
       "      <th></th>\n",
       "      <th>title</th>\n",
       "      <th>studio</th>\n",
       "      <th>domestic_gross</th>\n",
       "      <th>foreign_gross</th>\n",
       "      <th>year</th>\n",
       "    </tr>\n",
       "  </thead>\n",
       "  <tbody>\n",
       "    <tr>\n",
       "      <th>0</th>\n",
       "      <td>Toy Story 3</td>\n",
       "      <td>BV</td>\n",
       "      <td>415000000.0</td>\n",
       "      <td>652000000</td>\n",
       "      <td>2010</td>\n",
       "    </tr>\n",
       "    <tr>\n",
       "      <th>1</th>\n",
       "      <td>Alice in Wonderland (2010)</td>\n",
       "      <td>BV</td>\n",
       "      <td>334200000.0</td>\n",
       "      <td>691300000</td>\n",
       "      <td>2010</td>\n",
       "    </tr>\n",
       "    <tr>\n",
       "      <th>2</th>\n",
       "      <td>Harry Potter and the Deathly Hallows Part 1</td>\n",
       "      <td>WB</td>\n",
       "      <td>296000000.0</td>\n",
       "      <td>664300000</td>\n",
       "      <td>2010</td>\n",
       "    </tr>\n",
       "    <tr>\n",
       "      <th>3</th>\n",
       "      <td>Inception</td>\n",
       "      <td>WB</td>\n",
       "      <td>292600000.0</td>\n",
       "      <td>535700000</td>\n",
       "      <td>2010</td>\n",
       "    </tr>\n",
       "    <tr>\n",
       "      <th>4</th>\n",
       "      <td>Shrek Forever After</td>\n",
       "      <td>P/DW</td>\n",
       "      <td>238700000.0</td>\n",
       "      <td>513900000</td>\n",
       "      <td>2010</td>\n",
       "    </tr>\n",
       "    <tr>\n",
       "      <th>5</th>\n",
       "      <td>The Twilight Saga: Eclipse</td>\n",
       "      <td>Sum.</td>\n",
       "      <td>300500000.0</td>\n",
       "      <td>398000000</td>\n",
       "      <td>2010</td>\n",
       "    </tr>\n",
       "    <tr>\n",
       "      <th>6</th>\n",
       "      <td>Iron Man 2</td>\n",
       "      <td>Par.</td>\n",
       "      <td>312400000.0</td>\n",
       "      <td>311500000</td>\n",
       "      <td>2010</td>\n",
       "    </tr>\n",
       "    <tr>\n",
       "      <th>7</th>\n",
       "      <td>Tangled</td>\n",
       "      <td>BV</td>\n",
       "      <td>200800000.0</td>\n",
       "      <td>391000000</td>\n",
       "      <td>2010</td>\n",
       "    </tr>\n",
       "    <tr>\n",
       "      <th>8</th>\n",
       "      <td>Despicable Me</td>\n",
       "      <td>Uni.</td>\n",
       "      <td>251500000.0</td>\n",
       "      <td>291600000</td>\n",
       "      <td>2010</td>\n",
       "    </tr>\n",
       "    <tr>\n",
       "      <th>9</th>\n",
       "      <td>How to Train Your Dragon</td>\n",
       "      <td>P/DW</td>\n",
       "      <td>217600000.0</td>\n",
       "      <td>277300000</td>\n",
       "      <td>2010</td>\n",
       "    </tr>\n",
       "  </tbody>\n",
       "</table>\n",
       "</div>"
      ],
      "text/plain": [
       "                                         title studio  domestic_gross  \\\n",
       "0                                  Toy Story 3     BV     415000000.0   \n",
       "1                   Alice in Wonderland (2010)     BV     334200000.0   \n",
       "2  Harry Potter and the Deathly Hallows Part 1     WB     296000000.0   \n",
       "3                                    Inception     WB     292600000.0   \n",
       "4                          Shrek Forever After   P/DW     238700000.0   \n",
       "5                   The Twilight Saga: Eclipse   Sum.     300500000.0   \n",
       "6                                   Iron Man 2   Par.     312400000.0   \n",
       "7                                      Tangled     BV     200800000.0   \n",
       "8                                Despicable Me   Uni.     251500000.0   \n",
       "9                     How to Train Your Dragon   P/DW     217600000.0   \n",
       "\n",
       "  foreign_gross  year  \n",
       "0     652000000  2010  \n",
       "1     691300000  2010  \n",
       "2     664300000  2010  \n",
       "3     535700000  2010  \n",
       "4     513900000  2010  \n",
       "5     398000000  2010  \n",
       "6     311500000  2010  \n",
       "7     391000000  2010  \n",
       "8     291600000  2010  \n",
       "9     277300000  2010  "
      ]
     },
     "execution_count": 5,
     "metadata": {},
     "output_type": "execute_result"
    }
   ],
   "source": [
    "movie_gross_df.head(10)"
   ]
  },
  {
   "cell_type": "code",
   "execution_count": 6,
   "metadata": {},
   "outputs": [
    {
     "name": "stdout",
     "output_type": "stream",
     "text": [
      "[('movie_budget_data',), ('reviews_data',), ('movie_info_data',), ('tmdb_movies_data',), ('movie_gross_data',)]\n"
     ]
    }
   ],
   "source": [
    "cur = conn.cursor()\n",
    "cur.execute(\"\"\" \n",
    "SELECT name\n",
    "FROM sqlite_master\n",
    "WHERE type = 'table';\n",
    "\"\"\")\n",
    "table_names = cur.fetchall()\n",
    "print(table_names)"
   ]
  },
  {
   "cell_type": "code",
   "execution_count": 7,
   "metadata": {},
   "outputs": [
    {
     "name": "stdout",
     "output_type": "stream",
     "text": [
      "<class 'pandas.core.frame.DataFrame'>\n",
      "RangeIndex: 3387 entries, 0 to 3386\n",
      "Data columns (total 5 columns):\n",
      " #   Column          Non-Null Count  Dtype  \n",
      "---  ------          --------------  -----  \n",
      " 0   title           3387 non-null   object \n",
      " 1   studio          3382 non-null   object \n",
      " 2   domestic_gross  3359 non-null   float64\n",
      " 3   foreign_gross   2037 non-null   object \n",
      " 4   year            3387 non-null   int64  \n",
      "dtypes: float64(1), int64(1), object(3)\n",
      "memory usage: 132.4+ KB\n"
     ]
    }
   ],
   "source": [
    "movie_gross_df.info()"
   ]
  },
  {
   "cell_type": "code",
   "execution_count": 8,
   "metadata": {},
   "outputs": [
    {
     "data": {
      "text/plain": [
       "(3387, 5)"
      ]
     },
     "execution_count": 8,
     "metadata": {},
     "output_type": "execute_result"
    }
   ],
   "source": [
    "movie_gross_df.shape"
   ]
  },
  {
   "cell_type": "code",
   "execution_count": 9,
   "metadata": {},
   "outputs": [
    {
     "data": {
      "text/html": [
       "<div>\n",
       "<style scoped>\n",
       "    .dataframe tbody tr th:only-of-type {\n",
       "        vertical-align: middle;\n",
       "    }\n",
       "\n",
       "    .dataframe tbody tr th {\n",
       "        vertical-align: top;\n",
       "    }\n",
       "\n",
       "    .dataframe thead th {\n",
       "        text-align: right;\n",
       "    }\n",
       "</style>\n",
       "<table border=\"1\" class=\"dataframe\">\n",
       "  <thead>\n",
       "    <tr style=\"text-align: right;\">\n",
       "      <th></th>\n",
       "      <th>domestic_gross</th>\n",
       "      <th>year</th>\n",
       "    </tr>\n",
       "  </thead>\n",
       "  <tbody>\n",
       "    <tr>\n",
       "      <th>count</th>\n",
       "      <td>3.359000e+03</td>\n",
       "      <td>3387.000000</td>\n",
       "    </tr>\n",
       "    <tr>\n",
       "      <th>mean</th>\n",
       "      <td>2.874585e+07</td>\n",
       "      <td>2013.958075</td>\n",
       "    </tr>\n",
       "    <tr>\n",
       "      <th>std</th>\n",
       "      <td>6.698250e+07</td>\n",
       "      <td>2.478141</td>\n",
       "    </tr>\n",
       "    <tr>\n",
       "      <th>min</th>\n",
       "      <td>1.000000e+02</td>\n",
       "      <td>2010.000000</td>\n",
       "    </tr>\n",
       "    <tr>\n",
       "      <th>25%</th>\n",
       "      <td>1.200000e+05</td>\n",
       "      <td>2012.000000</td>\n",
       "    </tr>\n",
       "    <tr>\n",
       "      <th>50%</th>\n",
       "      <td>1.400000e+06</td>\n",
       "      <td>2014.000000</td>\n",
       "    </tr>\n",
       "    <tr>\n",
       "      <th>75%</th>\n",
       "      <td>2.790000e+07</td>\n",
       "      <td>2016.000000</td>\n",
       "    </tr>\n",
       "    <tr>\n",
       "      <th>max</th>\n",
       "      <td>9.367000e+08</td>\n",
       "      <td>2018.000000</td>\n",
       "    </tr>\n",
       "  </tbody>\n",
       "</table>\n",
       "</div>"
      ],
      "text/plain": [
       "       domestic_gross         year\n",
       "count    3.359000e+03  3387.000000\n",
       "mean     2.874585e+07  2013.958075\n",
       "std      6.698250e+07     2.478141\n",
       "min      1.000000e+02  2010.000000\n",
       "25%      1.200000e+05  2012.000000\n",
       "50%      1.400000e+06  2014.000000\n",
       "75%      2.790000e+07  2016.000000\n",
       "max      9.367000e+08  2018.000000"
      ]
     },
     "execution_count": 9,
     "metadata": {},
     "output_type": "execute_result"
    }
   ],
   "source": [
    "movie_gross_df.describe()"
   ]
  },
  {
   "cell_type": "code",
   "execution_count": 10,
   "metadata": {},
   "outputs": [
    {
     "data": {
      "text/plain": [
       "0                                       Toy Story 3\n",
       "1                        Alice in Wonderland (2010)\n",
       "2       Harry Potter and the Deathly Hallows Part 1\n",
       "3                                         Inception\n",
       "4                               Shrek Forever After\n",
       "                           ...                     \n",
       "3382                                      The Quake\n",
       "3383                    Edward II (2018 re-release)\n",
       "3384                                       El Pacto\n",
       "3385                                       The Swan\n",
       "3386                              An Actor Prepares\n",
       "Name: title, Length: 3387, dtype: object"
      ]
     },
     "execution_count": 10,
     "metadata": {},
     "output_type": "execute_result"
    }
   ],
   "source": [
    "movie_gross_df['title']"
   ]
  },
  {
   "cell_type": "code",
   "execution_count": 11,
   "metadata": {},
   "outputs": [
    {
     "data": {
      "text/html": [
       "<div>\n",
       "<style scoped>\n",
       "    .dataframe tbody tr th:only-of-type {\n",
       "        vertical-align: middle;\n",
       "    }\n",
       "\n",
       "    .dataframe tbody tr th {\n",
       "        vertical-align: top;\n",
       "    }\n",
       "\n",
       "    .dataframe thead th {\n",
       "        text-align: right;\n",
       "    }\n",
       "</style>\n",
       "<table border=\"1\" class=\"dataframe\">\n",
       "  <thead>\n",
       "    <tr style=\"text-align: right;\">\n",
       "      <th></th>\n",
       "      <th>title</th>\n",
       "      <th>foreign_gross</th>\n",
       "    </tr>\n",
       "  </thead>\n",
       "  <tbody>\n",
       "    <tr>\n",
       "      <th>0</th>\n",
       "      <td>Toy Story 3</td>\n",
       "      <td>652000000</td>\n",
       "    </tr>\n",
       "    <tr>\n",
       "      <th>1</th>\n",
       "      <td>Alice in Wonderland (2010)</td>\n",
       "      <td>691300000</td>\n",
       "    </tr>\n",
       "    <tr>\n",
       "      <th>2</th>\n",
       "      <td>Harry Potter and the Deathly Hallows Part 1</td>\n",
       "      <td>664300000</td>\n",
       "    </tr>\n",
       "    <tr>\n",
       "      <th>3</th>\n",
       "      <td>Inception</td>\n",
       "      <td>535700000</td>\n",
       "    </tr>\n",
       "    <tr>\n",
       "      <th>4</th>\n",
       "      <td>Shrek Forever After</td>\n",
       "      <td>513900000</td>\n",
       "    </tr>\n",
       "    <tr>\n",
       "      <th>...</th>\n",
       "      <td>...</td>\n",
       "      <td>...</td>\n",
       "    </tr>\n",
       "    <tr>\n",
       "      <th>3382</th>\n",
       "      <td>The Quake</td>\n",
       "      <td>NaN</td>\n",
       "    </tr>\n",
       "    <tr>\n",
       "      <th>3383</th>\n",
       "      <td>Edward II (2018 re-release)</td>\n",
       "      <td>NaN</td>\n",
       "    </tr>\n",
       "    <tr>\n",
       "      <th>3384</th>\n",
       "      <td>El Pacto</td>\n",
       "      <td>NaN</td>\n",
       "    </tr>\n",
       "    <tr>\n",
       "      <th>3385</th>\n",
       "      <td>The Swan</td>\n",
       "      <td>NaN</td>\n",
       "    </tr>\n",
       "    <tr>\n",
       "      <th>3386</th>\n",
       "      <td>An Actor Prepares</td>\n",
       "      <td>NaN</td>\n",
       "    </tr>\n",
       "  </tbody>\n",
       "</table>\n",
       "<p>3387 rows × 2 columns</p>\n",
       "</div>"
      ],
      "text/plain": [
       "                                            title foreign_gross\n",
       "0                                     Toy Story 3     652000000\n",
       "1                      Alice in Wonderland (2010)     691300000\n",
       "2     Harry Potter and the Deathly Hallows Part 1     664300000\n",
       "3                                       Inception     535700000\n",
       "4                             Shrek Forever After     513900000\n",
       "...                                           ...           ...\n",
       "3382                                    The Quake           NaN\n",
       "3383                  Edward II (2018 re-release)           NaN\n",
       "3384                                     El Pacto           NaN\n",
       "3385                                     The Swan           NaN\n",
       "3386                            An Actor Prepares           NaN\n",
       "\n",
       "[3387 rows x 2 columns]"
      ]
     },
     "execution_count": 11,
     "metadata": {},
     "output_type": "execute_result"
    }
   ],
   "source": [
    "movie_gross_df[['title', 'foreign_gross']]"
   ]
  },
  {
   "cell_type": "code",
   "execution_count": 12,
   "metadata": {},
   "outputs": [
    {
     "ename": "AttributeError",
     "evalue": "'Series' object has no attribute 'type'",
     "output_type": "error",
     "traceback": [
      "\u001b[1;31m---------------------------------------------------------------------------\u001b[0m",
      "\u001b[1;31mAttributeError\u001b[0m                            Traceback (most recent call last)",
      "\u001b[1;32m<ipython-input-12-e823eb167734>\u001b[0m in \u001b[0;36m<module>\u001b[1;34m\u001b[0m\n\u001b[1;32m----> 1\u001b[1;33m \u001b[0mmovie_gross_df\u001b[0m\u001b[1;33m[\u001b[0m\u001b[1;34m'year'\u001b[0m\u001b[1;33m]\u001b[0m\u001b[1;33m.\u001b[0m\u001b[0mtype\u001b[0m\u001b[1;33m\u001b[0m\u001b[1;33m\u001b[0m\u001b[0m\n\u001b[0m",
      "\u001b[1;32m~\\anaconda3\\envs\\learn-env\\lib\\site-packages\\pandas\\core\\generic.py\u001b[0m in \u001b[0;36m__getattr__\u001b[1;34m(self, name)\u001b[0m\n\u001b[0;32m   5987\u001b[0m         ):\n\u001b[0;32m   5988\u001b[0m             \u001b[1;32mreturn\u001b[0m \u001b[0mself\u001b[0m\u001b[1;33m[\u001b[0m\u001b[0mname\u001b[0m\u001b[1;33m]\u001b[0m\u001b[1;33m\u001b[0m\u001b[1;33m\u001b[0m\u001b[0m\n\u001b[1;32m-> 5989\u001b[1;33m         \u001b[1;32mreturn\u001b[0m \u001b[0mobject\u001b[0m\u001b[1;33m.\u001b[0m\u001b[0m__getattribute__\u001b[0m\u001b[1;33m(\u001b[0m\u001b[0mself\u001b[0m\u001b[1;33m,\u001b[0m \u001b[0mname\u001b[0m\u001b[1;33m)\u001b[0m\u001b[1;33m\u001b[0m\u001b[1;33m\u001b[0m\u001b[0m\n\u001b[0m\u001b[0;32m   5990\u001b[0m \u001b[1;33m\u001b[0m\u001b[0m\n\u001b[0;32m   5991\u001b[0m     \u001b[1;32mdef\u001b[0m \u001b[0m__setattr__\u001b[0m\u001b[1;33m(\u001b[0m\u001b[0mself\u001b[0m\u001b[1;33m,\u001b[0m \u001b[0mname\u001b[0m\u001b[1;33m:\u001b[0m \u001b[0mstr\u001b[0m\u001b[1;33m,\u001b[0m \u001b[0mvalue\u001b[0m\u001b[1;33m)\u001b[0m \u001b[1;33m->\u001b[0m \u001b[1;32mNone\u001b[0m\u001b[1;33m:\u001b[0m\u001b[1;33m\u001b[0m\u001b[1;33m\u001b[0m\u001b[0m\n",
      "\u001b[1;31mAttributeError\u001b[0m: 'Series' object has no attribute 'type'"
     ]
    }
   ],
   "source": [
    "movie_gross_df['year'].type"
   ]
  },
  {
   "cell_type": "code",
   "execution_count": 13,
   "metadata": {},
   "outputs": [
    {
     "data": {
      "text/plain": [
       "array([2010, 2011, 2012, 2013, 2014, 2015, 2016, 2017, 2018], dtype=int64)"
      ]
     },
     "execution_count": 13,
     "metadata": {},
     "output_type": "execute_result"
    }
   ],
   "source": [
    "movie_gross_df['year'].unique()"
   ]
  },
  {
   "cell_type": "code",
   "execution_count": 14,
   "metadata": {},
   "outputs": [
    {
     "ename": "NameError",
     "evalue": "name 'movie_grosss_df' is not defined",
     "output_type": "error",
     "traceback": [
      "\u001b[1;31m---------------------------------------------------------------------------\u001b[0m",
      "\u001b[1;31mNameError\u001b[0m                                 Traceback (most recent call last)",
      "\u001b[1;32m<ipython-input-14-f74edc132b4c>\u001b[0m in \u001b[0;36m<module>\u001b[1;34m\u001b[0m\n\u001b[1;32m----> 1\u001b[1;33m \u001b[0mmissing_foreign_gross_value\u001b[0m \u001b[1;33m=\u001b[0m \u001b[0mmovie_grosss_df\u001b[0m\u001b[1;33m.\u001b[0m\u001b[0misnull\u001b[0m\u001b[1;33m(\u001b[0m\u001b[1;33m)\u001b[0m\u001b[1;33m.\u001b[0m\u001b[0msum\u001b[0m\u001b[1;33m(\u001b[0m\u001b[1;33m)\u001b[0m\u001b[1;33m\u001b[0m\u001b[1;33m\u001b[0m\u001b[0m\n\u001b[0m",
      "\u001b[1;31mNameError\u001b[0m: name 'movie_grosss_df' is not defined"
     ]
    }
   ],
   "source": [
    "missing_foreign_gross_value = movie_grosss_df.isnull().sum()"
   ]
  },
  {
   "cell_type": "code",
   "execution_count": 15,
   "metadata": {},
   "outputs": [
    {
     "data": {
      "text/html": [
       "<div>\n",
       "<style scoped>\n",
       "    .dataframe tbody tr th:only-of-type {\n",
       "        vertical-align: middle;\n",
       "    }\n",
       "\n",
       "    .dataframe tbody tr th {\n",
       "        vertical-align: top;\n",
       "    }\n",
       "\n",
       "    .dataframe thead th {\n",
       "        text-align: right;\n",
       "    }\n",
       "</style>\n",
       "<table border=\"1\" class=\"dataframe\">\n",
       "  <thead>\n",
       "    <tr style=\"text-align: right;\">\n",
       "      <th></th>\n",
       "      <th>title</th>\n",
       "      <th>foreign_gross</th>\n",
       "    </tr>\n",
       "  </thead>\n",
       "  <tbody>\n",
       "    <tr>\n",
       "      <th>0</th>\n",
       "      <td>Toy Story 3</td>\n",
       "      <td>652000000</td>\n",
       "    </tr>\n",
       "    <tr>\n",
       "      <th>1</th>\n",
       "      <td>Alice in Wonderland (2010)</td>\n",
       "      <td>691300000</td>\n",
       "    </tr>\n",
       "    <tr>\n",
       "      <th>2</th>\n",
       "      <td>Harry Potter and the Deathly Hallows Part 1</td>\n",
       "      <td>664300000</td>\n",
       "    </tr>\n",
       "    <tr>\n",
       "      <th>3</th>\n",
       "      <td>Inception</td>\n",
       "      <td>535700000</td>\n",
       "    </tr>\n",
       "    <tr>\n",
       "      <th>4</th>\n",
       "      <td>Shrek Forever After</td>\n",
       "      <td>513900000</td>\n",
       "    </tr>\n",
       "    <tr>\n",
       "      <th>5</th>\n",
       "      <td>The Twilight Saga: Eclipse</td>\n",
       "      <td>398000000</td>\n",
       "    </tr>\n",
       "    <tr>\n",
       "      <th>6</th>\n",
       "      <td>Iron Man 2</td>\n",
       "      <td>311500000</td>\n",
       "    </tr>\n",
       "    <tr>\n",
       "      <th>7</th>\n",
       "      <td>Tangled</td>\n",
       "      <td>391000000</td>\n",
       "    </tr>\n",
       "    <tr>\n",
       "      <th>8</th>\n",
       "      <td>Despicable Me</td>\n",
       "      <td>291600000</td>\n",
       "    </tr>\n",
       "    <tr>\n",
       "      <th>9</th>\n",
       "      <td>How to Train Your Dragon</td>\n",
       "      <td>277300000</td>\n",
       "    </tr>\n",
       "    <tr>\n",
       "      <th>10</th>\n",
       "      <td>Clash of the Titans (2010)</td>\n",
       "      <td>330000000</td>\n",
       "    </tr>\n",
       "    <tr>\n",
       "      <th>11</th>\n",
       "      <td>The Chronicles of Narnia: The Voyage of the Da...</td>\n",
       "      <td>311300000</td>\n",
       "    </tr>\n",
       "    <tr>\n",
       "      <th>12</th>\n",
       "      <td>The King's Speech</td>\n",
       "      <td>275400000</td>\n",
       "    </tr>\n",
       "    <tr>\n",
       "      <th>13</th>\n",
       "      <td>Tron Legacy</td>\n",
       "      <td>228000000</td>\n",
       "    </tr>\n",
       "    <tr>\n",
       "      <th>14</th>\n",
       "      <td>The Karate Kid</td>\n",
       "      <td>182500000</td>\n",
       "    </tr>\n",
       "    <tr>\n",
       "      <th>15</th>\n",
       "      <td>Prince of Persia: The Sands of Time</td>\n",
       "      <td>245600000</td>\n",
       "    </tr>\n",
       "    <tr>\n",
       "      <th>16</th>\n",
       "      <td>Black Swan</td>\n",
       "      <td>222400000</td>\n",
       "    </tr>\n",
       "    <tr>\n",
       "      <th>17</th>\n",
       "      <td>Megamind</td>\n",
       "      <td>173500000</td>\n",
       "    </tr>\n",
       "    <tr>\n",
       "      <th>18</th>\n",
       "      <td>Robin Hood</td>\n",
       "      <td>216400000</td>\n",
       "    </tr>\n",
       "    <tr>\n",
       "      <th>19</th>\n",
       "      <td>The Last Airbender</td>\n",
       "      <td>187900000</td>\n",
       "    </tr>\n",
       "    <tr>\n",
       "      <th>20</th>\n",
       "      <td>Little Fockers</td>\n",
       "      <td>162200000</td>\n",
       "    </tr>\n",
       "    <tr>\n",
       "      <th>21</th>\n",
       "      <td>Resident Evil: Afterlife</td>\n",
       "      <td>240100000</td>\n",
       "    </tr>\n",
       "    <tr>\n",
       "      <th>22</th>\n",
       "      <td>Shutter Island</td>\n",
       "      <td>166800000</td>\n",
       "    </tr>\n",
       "    <tr>\n",
       "      <th>23</th>\n",
       "      <td>Salt</td>\n",
       "      <td>175200000</td>\n",
       "    </tr>\n",
       "    <tr>\n",
       "      <th>24</th>\n",
       "      <td>Sex and the City 2</td>\n",
       "      <td>193000000</td>\n",
       "    </tr>\n",
       "  </tbody>\n",
       "</table>\n",
       "</div>"
      ],
      "text/plain": [
       "                                                title foreign_gross\n",
       "0                                         Toy Story 3     652000000\n",
       "1                          Alice in Wonderland (2010)     691300000\n",
       "2         Harry Potter and the Deathly Hallows Part 1     664300000\n",
       "3                                           Inception     535700000\n",
       "4                                 Shrek Forever After     513900000\n",
       "5                          The Twilight Saga: Eclipse     398000000\n",
       "6                                          Iron Man 2     311500000\n",
       "7                                             Tangled     391000000\n",
       "8                                       Despicable Me     291600000\n",
       "9                            How to Train Your Dragon     277300000\n",
       "10                         Clash of the Titans (2010)     330000000\n",
       "11  The Chronicles of Narnia: The Voyage of the Da...     311300000\n",
       "12                                  The King's Speech     275400000\n",
       "13                                        Tron Legacy     228000000\n",
       "14                                     The Karate Kid     182500000\n",
       "15                Prince of Persia: The Sands of Time     245600000\n",
       "16                                         Black Swan     222400000\n",
       "17                                           Megamind     173500000\n",
       "18                                         Robin Hood     216400000\n",
       "19                                 The Last Airbender     187900000\n",
       "20                                     Little Fockers     162200000\n",
       "21                           Resident Evil: Afterlife     240100000\n",
       "22                                     Shutter Island     166800000\n",
       "23                                               Salt     175200000\n",
       "24                                 Sex and the City 2     193000000"
      ]
     },
     "execution_count": 15,
     "metadata": {},
     "output_type": "execute_result"
    }
   ],
   "source": [
    "movie_gross_df[['title', 'foreign_gross']].head(25)"
   ]
  },
  {
   "cell_type": "code",
   "execution_count": 17,
   "metadata": {},
   "outputs": [
    {
     "data": {
      "text/plain": [
       "1350"
      ]
     },
     "execution_count": 17,
     "metadata": {},
     "output_type": "execute_result"
    }
   ],
   "source": [
    "fg_nan_count = movie_gross_df['foreign_gross'].isna().sum()\n",
    "fg_nan_count"
   ]
  },
  {
   "cell_type": "code",
   "execution_count": 18,
   "metadata": {},
   "outputs": [
    {
     "name": "stdout",
     "output_type": "stream",
     "text": [
      "count        2037\n",
      "unique       1204\n",
      "top       1200000\n",
      "freq           23\n",
      "Name: foreign_gross, dtype: object\n"
     ]
    }
   ],
   "source": [
    "print(movie_gross_df['foreign_gross'].describe())"
   ]
  },
  {
   "cell_type": "code",
   "execution_count": 26,
   "metadata": {},
   "outputs": [
    {
     "data": {
      "image/png": "[encoded data removed]",
      "text/plain": [
       "<Figure size 720x432 with 1 Axes>"
      ]
     },
     "metadata": {
      "needs_background": "light"
     },
     "output_type": "display_data"
    }
   ],
   "source": [
    "plt.figure(figsize=(10,6))\n",
    "movie_gross_df['foreign_gross'].plot(kind='box', title='Box Plot for Foreign Gross')\n",
    "plt.show()"
   ]
  },
  {
   "cell_type": "code",
   "execution_count": 27,
   "metadata": {},
   "outputs": [
    {
     "data": {
      "image/png": "[encoded data removed]",
      "text/plain": [
       "<Figure size 720x432 with 1 Axes>"
      ]
     },
     "metadata": {
      "needs_background": "light"
     },
     "output_type": "display_data"
    }
   ],
   "source": [
    "plt.figure(figsize=(10,6))\n",
    "plt.hist(movie_gross_df['foreign_gross'].dropna(), bins=30, edgecolor='black', alpha=0.7)\n",
    "plt.title('Distribution of Foreign Gross')\n",
    "plt.xlabel('Foreign Gross')\n",
    "plt.ylabel('Frequency')\n",
    "plt.show()"
   ]
  },
  {
   "cell_type": "code",
   "execution_count": 23,
   "metadata": {},
   "outputs": [
    {
     "ename": "AttributeError",
     "evalue": "Can only use .str accessor with string values!",
     "output_type": "error",
     "traceback": [
      "\u001b[1;31m---------------------------------------------------------------------------\u001b[0m",
      "\u001b[1;31mAttributeError\u001b[0m                            Traceback (most recent call last)",
      "\u001b[1;32m<ipython-input-23-e51c2b97595f>\u001b[0m in \u001b[0;36m<module>\u001b[1;34m\u001b[0m\n\u001b[1;32m----> 1\u001b[1;33m \u001b[0mmovie_gross_df\u001b[0m\u001b[1;33m[\u001b[0m\u001b[1;34m'foreign_gross'\u001b[0m\u001b[1;33m]\u001b[0m \u001b[1;33m=\u001b[0m \u001b[0mmovie_gross_df\u001b[0m\u001b[1;33m[\u001b[0m\u001b[1;34m'foreign_gross'\u001b[0m\u001b[1;33m]\u001b[0m\u001b[1;33m.\u001b[0m\u001b[0mstr\u001b[0m\u001b[1;33m.\u001b[0m\u001b[0mreplace\u001b[0m\u001b[1;33m(\u001b[0m\u001b[1;34m','\u001b[0m\u001b[1;33m,\u001b[0m \u001b[1;34m''\u001b[0m\u001b[1;33m)\u001b[0m\u001b[1;33m.\u001b[0m\u001b[0mastype\u001b[0m\u001b[1;33m(\u001b[0m\u001b[0mfloat\u001b[0m\u001b[1;33m)\u001b[0m\u001b[1;33m\u001b[0m\u001b[1;33m\u001b[0m\u001b[0m\n\u001b[0m\u001b[0;32m      2\u001b[0m \u001b[0mprint\u001b[0m\u001b[1;33m(\u001b[0m\u001b[0mmovie_gross_df\u001b[0m\u001b[1;33m[\u001b[0m\u001b[1;34m'foreign_gross'\u001b[0m\u001b[1;33m]\u001b[0m\u001b[1;33m.\u001b[0m\u001b[0mhead\u001b[0m\u001b[1;33m(\u001b[0m\u001b[1;33m)\u001b[0m\u001b[1;33m)\u001b[0m\u001b[1;33m\u001b[0m\u001b[1;33m\u001b[0m\u001b[0m\n",
      "\u001b[1;32m~\\anaconda3\\envs\\learn-env\\lib\\site-packages\\pandas\\core\\generic.py\u001b[0m in \u001b[0;36m__getattr__\u001b[1;34m(self, name)\u001b[0m\n\u001b[0;32m   5987\u001b[0m         ):\n\u001b[0;32m   5988\u001b[0m             \u001b[1;32mreturn\u001b[0m \u001b[0mself\u001b[0m\u001b[1;33m[\u001b[0m\u001b[0mname\u001b[0m\u001b[1;33m]\u001b[0m\u001b[1;33m\u001b[0m\u001b[1;33m\u001b[0m\u001b[0m\n\u001b[1;32m-> 5989\u001b[1;33m         \u001b[1;32mreturn\u001b[0m \u001b[0mobject\u001b[0m\u001b[1;33m.\u001b[0m\u001b[0m__getattribute__\u001b[0m\u001b[1;33m(\u001b[0m\u001b[0mself\u001b[0m\u001b[1;33m,\u001b[0m \u001b[0mname\u001b[0m\u001b[1;33m)\u001b[0m\u001b[1;33m\u001b[0m\u001b[1;33m\u001b[0m\u001b[0m\n\u001b[0m\u001b[0;32m   5990\u001b[0m \u001b[1;33m\u001b[0m\u001b[0m\n\u001b[0;32m   5991\u001b[0m     \u001b[1;32mdef\u001b[0m \u001b[0m__setattr__\u001b[0m\u001b[1;33m(\u001b[0m\u001b[0mself\u001b[0m\u001b[1;33m,\u001b[0m \u001b[0mname\u001b[0m\u001b[1;33m:\u001b[0m \u001b[0mstr\u001b[0m\u001b[1;33m,\u001b[0m \u001b[0mvalue\u001b[0m\u001b[1;33m)\u001b[0m \u001b[1;33m->\u001b[0m \u001b[1;32mNone\u001b[0m\u001b[1;33m:\u001b[0m\u001b[1;33m\u001b[0m\u001b[1;33m\u001b[0m\u001b[0m\n",
      "\u001b[1;32m~\\anaconda3\\envs\\learn-env\\lib\\site-packages\\pandas\\core\\accessor.py\u001b[0m in \u001b[0;36m__get__\u001b[1;34m(self, obj, cls)\u001b[0m\n\u001b[0;32m    222\u001b[0m             \u001b[1;31m# we're accessing the attribute of the class, i.e., Dataset.geo\u001b[0m\u001b[1;33m\u001b[0m\u001b[1;33m\u001b[0m\u001b[1;33m\u001b[0m\u001b[0m\n\u001b[0;32m    223\u001b[0m             \u001b[1;32mreturn\u001b[0m \u001b[0mself\u001b[0m\u001b[1;33m.\u001b[0m\u001b[0m_accessor\u001b[0m\u001b[1;33m\u001b[0m\u001b[1;33m\u001b[0m\u001b[0m\n\u001b[1;32m--> 224\u001b[1;33m         \u001b[0maccessor_obj\u001b[0m \u001b[1;33m=\u001b[0m \u001b[0mself\u001b[0m\u001b[1;33m.\u001b[0m\u001b[0m_accessor\u001b[0m\u001b[1;33m(\u001b[0m\u001b[0mobj\u001b[0m\u001b[1;33m)\u001b[0m\u001b[1;33m\u001b[0m\u001b[1;33m\u001b[0m\u001b[0m\n\u001b[0m\u001b[0;32m    225\u001b[0m         \u001b[1;31m# Replace the property with the accessor object. Inspired by:\u001b[0m\u001b[1;33m\u001b[0m\u001b[1;33m\u001b[0m\u001b[1;33m\u001b[0m\u001b[0m\n\u001b[0;32m    226\u001b[0m         \u001b[1;31m# https://www.pydanny.com/cached-property.html\u001b[0m\u001b[1;33m\u001b[0m\u001b[1;33m\u001b[0m\u001b[1;33m\u001b[0m\u001b[0m\n",
      "\u001b[1;32m~\\anaconda3\\envs\\learn-env\\lib\\site-packages\\pandas\\core\\strings\\accessor.py\u001b[0m in \u001b[0;36m__init__\u001b[1;34m(self, data)\u001b[0m\n\u001b[0;32m    179\u001b[0m         \u001b[1;32mfrom\u001b[0m \u001b[0mpandas\u001b[0m\u001b[1;33m.\u001b[0m\u001b[0mcore\u001b[0m\u001b[1;33m.\u001b[0m\u001b[0marrays\u001b[0m\u001b[1;33m.\u001b[0m\u001b[0mstring_\u001b[0m \u001b[1;32mimport\u001b[0m \u001b[0mStringDtype\u001b[0m\u001b[1;33m\u001b[0m\u001b[1;33m\u001b[0m\u001b[0m\n\u001b[0;32m    180\u001b[0m \u001b[1;33m\u001b[0m\u001b[0m\n\u001b[1;32m--> 181\u001b[1;33m         \u001b[0mself\u001b[0m\u001b[1;33m.\u001b[0m\u001b[0m_inferred_dtype\u001b[0m \u001b[1;33m=\u001b[0m \u001b[0mself\u001b[0m\u001b[1;33m.\u001b[0m\u001b[0m_validate\u001b[0m\u001b[1;33m(\u001b[0m\u001b[0mdata\u001b[0m\u001b[1;33m)\u001b[0m\u001b[1;33m\u001b[0m\u001b[1;33m\u001b[0m\u001b[0m\n\u001b[0m\u001b[0;32m    182\u001b[0m         \u001b[0mself\u001b[0m\u001b[1;33m.\u001b[0m\u001b[0m_is_categorical\u001b[0m \u001b[1;33m=\u001b[0m \u001b[0mis_categorical_dtype\u001b[0m\u001b[1;33m(\u001b[0m\u001b[0mdata\u001b[0m\u001b[1;33m.\u001b[0m\u001b[0mdtype\u001b[0m\u001b[1;33m)\u001b[0m\u001b[1;33m\u001b[0m\u001b[1;33m\u001b[0m\u001b[0m\n\u001b[0;32m    183\u001b[0m         \u001b[0mself\u001b[0m\u001b[1;33m.\u001b[0m\u001b[0m_is_string\u001b[0m \u001b[1;33m=\u001b[0m \u001b[0misinstance\u001b[0m\u001b[1;33m(\u001b[0m\u001b[0mdata\u001b[0m\u001b[1;33m.\u001b[0m\u001b[0mdtype\u001b[0m\u001b[1;33m,\u001b[0m \u001b[0mStringDtype\u001b[0m\u001b[1;33m)\u001b[0m\u001b[1;33m\u001b[0m\u001b[1;33m\u001b[0m\u001b[0m\n",
      "\u001b[1;32m~\\anaconda3\\envs\\learn-env\\lib\\site-packages\\pandas\\core\\strings\\accessor.py\u001b[0m in \u001b[0;36m_validate\u001b[1;34m(data)\u001b[0m\n\u001b[0;32m    233\u001b[0m \u001b[1;33m\u001b[0m\u001b[0m\n\u001b[0;32m    234\u001b[0m         \u001b[1;32mif\u001b[0m \u001b[0minferred_dtype\u001b[0m \u001b[1;32mnot\u001b[0m \u001b[1;32min\u001b[0m \u001b[0mallowed_types\u001b[0m\u001b[1;33m:\u001b[0m\u001b[1;33m\u001b[0m\u001b[1;33m\u001b[0m\u001b[0m\n\u001b[1;32m--> 235\u001b[1;33m             \u001b[1;32mraise\u001b[0m \u001b[0mAttributeError\u001b[0m\u001b[1;33m(\u001b[0m\u001b[1;34m\"Can only use .str accessor with string values!\"\u001b[0m\u001b[1;33m)\u001b[0m\u001b[1;33m\u001b[0m\u001b[1;33m\u001b[0m\u001b[0m\n\u001b[0m\u001b[0;32m    236\u001b[0m         \u001b[1;32mreturn\u001b[0m \u001b[0minferred_dtype\u001b[0m\u001b[1;33m\u001b[0m\u001b[1;33m\u001b[0m\u001b[0m\n\u001b[0;32m    237\u001b[0m \u001b[1;33m\u001b[0m\u001b[0m\n",
      "\u001b[1;31mAttributeError\u001b[0m: Can only use .str accessor with string values!"
     ]
    }
   ],
   "source": [
    "movie_gross_df['foreign_gross'] = movie_gross_df['foreign_gross'].str.replace(',', '').astype(float)"
   ]
  },
  {
   "cell_type": "code",
   "execution_count": 24,
   "metadata": {},
   "outputs": [
    {
     "name": "stdout",
     "output_type": "stream",
     "text": [
      "0    652000000.0\n",
      "1    691300000.0\n",
      "2    664300000.0\n",
      "3    535700000.0\n",
      "4    513900000.0\n",
      "Name: foreign_gross, dtype: float64\n"
     ]
    }
   ],
   "source": [
    "print(movie_gross_df['foreign_gross'].head())"
   ]
  },
  {
   "cell_type": "code",
   "execution_count": 28,
   "metadata": {},
   "outputs": [
    {
     "name": "stdout",
     "output_type": "stream",
     "text": [
      "<class 'pandas.core.frame.DataFrame'>\n",
      "RangeIndex: 3387 entries, 0 to 3386\n",
      "Data columns (total 5 columns):\n",
      " #   Column          Non-Null Count  Dtype  \n",
      "---  ------          --------------  -----  \n",
      " 0   title           3387 non-null   object \n",
      " 1   studio          3382 non-null   object \n",
      " 2   domestic_gross  3359 non-null   float64\n",
      " 3   foreign_gross   2037 non-null   float64\n",
      " 4   year            3387 non-null   int64  \n",
      "dtypes: float64(2), int64(1), object(2)\n",
      "memory usage: 132.4+ KB\n"
     ]
    }
   ],
   "source": [
    "movie_gross_df.info()"
   ]
  },
  {
   "cell_type": "code",
   "execution_count": 29,
   "metadata": {},
   "outputs": [
    {
     "data": {
      "text/plain": [
       "1350"
      ]
     },
     "execution_count": 29,
     "metadata": {},
     "output_type": "execute_result"
    }
   ],
   "source": [
    "fg_nan_count = movie_gross_df['foreign_gross'].isna().sum()\n",
    "fg_nan_count"
   ]
  },
  {
   "cell_type": "code",
   "execution_count": 32,
   "metadata": {},
   "outputs": [
    {
     "name": "stdout",
     "output_type": "stream",
     "text": [
      "                                          title   studio  domestic_gross  \\\n",
      "222                                     Flipped       WB       1800000.0   \n",
      "254      The Polar Express (IMAX re-issue 2010)       WB        673000.0   \n",
      "267                              Tiny Furniture      IFC        392000.0   \n",
      "269               Grease (Sing-a-Long re-issue)     Par.        366000.0   \n",
      "280                             Last Train Home    Zeit.        288000.0   \n",
      "287                                  Sweetgrass     CGld        207000.0   \n",
      "291  Casino Jack and the United States of Money    Magn.        177000.0   \n",
      "308                                      Alamar       FM         61600.0   \n",
      "311                                   Hatchet 2    Vita.         52600.0   \n",
      "319                         Living in Emergency    Truly         32200.0   \n",
      "323                              The Taqwacores   Strand         11400.0   \n",
      "324                                      Cherry     Abr.         11400.0   \n",
      "325                           Terkel in Trouble   Indic.         10800.0   \n",
      "326                                 Kimjongilia    Lorb.          4400.0   \n",
      "458                                  Courageous     TriS      34500000.0   \n",
      "473                           Our Idiot Brother    Wein.      24800000.0   \n",
      "511                           Straw Dogs (2011)     SGem      10300000.0   \n",
      "512                                        Prom       BV      10100000.0   \n",
      "524                        Take Me Home Tonight    Rela.       6900000.0   \n",
      "525                                Cedar Rapids     FoxS       6900000.0   \n",
      "542                                     The Way      PDA       4400000.0   \n",
      "547                                        Buck      IFC       4000000.0   \n",
      "551                                       Don 2  Relbig.       3700000.0   \n",
      "556                   The King's Speech (PG-13)    Wein.       3300000.0   \n",
      "561                    Zindagi Na Milegi Dobara     Eros       3100000.0   \n",
      "567                          Everything Must Go    RAtt.       2700000.0   \n",
      "574                             The Trip (2011)      IFC       2000000.0   \n",
      "576                                   Bodyguard  Relbig.       1800000.0   \n",
      "581                               A Better Life     Sum.       1800000.0   \n",
      "584                    Bill Cunningham New York    Zeit.       1500000.0   \n",
      "585                       The Art of Getting By     FoxS       1400000.0   \n",
      "586                          The Devil's Double      LGF       1400000.0   \n",
      "588                           The Whistleblower    Gold.       1100000.0   \n",
      "589                                   Red State     SMod       1100000.0   \n",
      "591                                   Desi Boyz     Eros       1100000.0   \n",
      "593                            There Be Dragons    Gold.       1100000.0   \n",
      "595  Page One: A Year Inside the New York Times    Magn.       1100000.0   \n",
      "597                             Rockstar (2011)     Eros        987000.0   \n",
      "598                               Meek's Cutoff    Osci.        978000.0   \n",
      "600                                       Ready     Eros        955000.0   \n",
      "\n",
      "     foreign_gross  year  \n",
      "222            NaN  2010  \n",
      "254            NaN  2010  \n",
      "267            NaN  2010  \n",
      "269            NaN  2010  \n",
      "280            NaN  2010  \n",
      "287            NaN  2010  \n",
      "291            NaN  2010  \n",
      "308            NaN  2010  \n",
      "311            NaN  2010  \n",
      "319            NaN  2010  \n",
      "323            NaN  2010  \n",
      "324            NaN  2010  \n",
      "325            NaN  2010  \n",
      "326            NaN  2010  \n",
      "458            NaN  2011  \n",
      "473            NaN  2011  \n",
      "511            NaN  2011  \n",
      "512            NaN  2011  \n",
      "524            NaN  2011  \n",
      "525            NaN  2011  \n",
      "542            NaN  2011  \n",
      "547            NaN  2011  \n",
      "551            NaN  2011  \n",
      "556            NaN  2011  \n",
      "561            NaN  2011  \n",
      "567            NaN  2011  \n",
      "574            NaN  2011  \n",
      "576            NaN  2011  \n",
      "581            NaN  2011  \n",
      "584            NaN  2011  \n",
      "585            NaN  2011  \n",
      "586            NaN  2011  \n",
      "588            NaN  2011  \n",
      "589            NaN  2011  \n",
      "591            NaN  2011  \n",
      "593            NaN  2011  \n",
      "595            NaN  2011  \n",
      "597            NaN  2011  \n",
      "598            NaN  2011  \n",
      "600            NaN  2011  \n"
     ]
    }
   ],
   "source": [
    "fg_nan_rows = movie_gross_df[movie_gross_df['foreign_gross'].isna()]\n",
    "print(fg_nan_rows.head(40))"
   ]
  },
  {
   "cell_type": "code",
   "execution_count": 33,
   "metadata": {},
   "outputs": [
    {
     "name": "stdout",
     "output_type": "stream",
     "text": [
      "                title studio  domestic_gross  foreign_gross  year\n",
      "12  The King's Speech  Wein.     135500000.0    275400000.0  2010\n"
     ]
    }
   ],
   "source": [
    "kings_speech_info = movie_gross_df[movie_gross_df['title'] == \"The King's Speech\"]\n",
    "print(kings_speech_info)"
   ]
  },
  {
   "cell_type": "code",
   "execution_count": 34,
   "metadata": {},
   "outputs": [],
   "source": [
    "movie_gross_df['title'] = movie_gross_df['title'].str.strip()"
   ]
  },
  {
   "cell_type": "code",
   "execution_count": 35,
   "metadata": {},
   "outputs": [
    {
     "name": "stdout",
     "output_type": "stream",
     "text": [
      "                title studio  domestic_gross  foreign_gross  year\n",
      "12  The King's Speech  Wein.     135500000.0    275400000.0  2010\n"
     ]
    }
   ],
   "source": [
    "print(kings_speech_info)"
   ]
  },
  {
   "cell_type": "code",
   "execution_count": 36,
   "metadata": {},
   "outputs": [
    {
     "name": "stdout",
     "output_type": "stream",
     "text": [
      "                                          title   studio  domestic_gross  \\\n",
      "222                                     Flipped       WB       1800000.0   \n",
      "254      The Polar Express (IMAX re-issue 2010)       WB        673000.0   \n",
      "267                              Tiny Furniture      IFC        392000.0   \n",
      "269               Grease (Sing-a-Long re-issue)     Par.        366000.0   \n",
      "280                             Last Train Home    Zeit.        288000.0   \n",
      "287                                  Sweetgrass     CGld        207000.0   \n",
      "291  Casino Jack and the United States of Money    Magn.        177000.0   \n",
      "308                                      Alamar       FM         61600.0   \n",
      "311                                   Hatchet 2    Vita.         52600.0   \n",
      "319                         Living in Emergency    Truly         32200.0   \n",
      "323                              The Taqwacores   Strand         11400.0   \n",
      "324                                      Cherry     Abr.         11400.0   \n",
      "325                           Terkel in Trouble   Indic.         10800.0   \n",
      "326                                 Kimjongilia    Lorb.          4400.0   \n",
      "458                                  Courageous     TriS      34500000.0   \n",
      "473                           Our Idiot Brother    Wein.      24800000.0   \n",
      "511                           Straw Dogs (2011)     SGem      10300000.0   \n",
      "512                                        Prom       BV      10100000.0   \n",
      "524                        Take Me Home Tonight    Rela.       6900000.0   \n",
      "525                                Cedar Rapids     FoxS       6900000.0   \n",
      "542                                     The Way      PDA       4400000.0   \n",
      "547                                        Buck      IFC       4000000.0   \n",
      "551                                       Don 2  Relbig.       3700000.0   \n",
      "556                   The King's Speech (PG-13)    Wein.       3300000.0   \n",
      "561                    Zindagi Na Milegi Dobara     Eros       3100000.0   \n",
      "567                          Everything Must Go    RAtt.       2700000.0   \n",
      "574                             The Trip (2011)      IFC       2000000.0   \n",
      "576                                   Bodyguard  Relbig.       1800000.0   \n",
      "581                               A Better Life     Sum.       1800000.0   \n",
      "584                    Bill Cunningham New York    Zeit.       1500000.0   \n",
      "585                       The Art of Getting By     FoxS       1400000.0   \n",
      "586                          The Devil's Double      LGF       1400000.0   \n",
      "588                           The Whistleblower    Gold.       1100000.0   \n",
      "589                                   Red State     SMod       1100000.0   \n",
      "591                                   Desi Boyz     Eros       1100000.0   \n",
      "593                            There Be Dragons    Gold.       1100000.0   \n",
      "595  Page One: A Year Inside the New York Times    Magn.       1100000.0   \n",
      "597                             Rockstar (2011)     Eros        987000.0   \n",
      "598                               Meek's Cutoff    Osci.        978000.0   \n",
      "600                                       Ready     Eros        955000.0   \n",
      "\n",
      "     foreign_gross  year  \n",
      "222            NaN  2010  \n",
      "254            NaN  2010  \n",
      "267            NaN  2010  \n",
      "269            NaN  2010  \n",
      "280            NaN  2010  \n",
      "287            NaN  2010  \n",
      "291            NaN  2010  \n",
      "308            NaN  2010  \n",
      "311            NaN  2010  \n",
      "319            NaN  2010  \n",
      "323            NaN  2010  \n",
      "324            NaN  2010  \n",
      "325            NaN  2010  \n",
      "326            NaN  2010  \n",
      "458            NaN  2011  \n",
      "473            NaN  2011  \n",
      "511            NaN  2011  \n",
      "512            NaN  2011  \n",
      "524            NaN  2011  \n",
      "525            NaN  2011  \n",
      "542            NaN  2011  \n",
      "547            NaN  2011  \n",
      "551            NaN  2011  \n",
      "556            NaN  2011  \n",
      "561            NaN  2011  \n",
      "567            NaN  2011  \n",
      "574            NaN  2011  \n",
      "576            NaN  2011  \n",
      "581            NaN  2011  \n",
      "584            NaN  2011  \n",
      "585            NaN  2011  \n",
      "586            NaN  2011  \n",
      "588            NaN  2011  \n",
      "589            NaN  2011  \n",
      "591            NaN  2011  \n",
      "593            NaN  2011  \n",
      "595            NaN  2011  \n",
      "597            NaN  2011  \n",
      "598            NaN  2011  \n",
      "600            NaN  2011  \n"
     ]
    }
   ],
   "source": [
    "fg_nan_rows = movie_gross_df[movie_gross_df['foreign_gross'].isna()]\n",
    "print(fg_nan_rows.head(40))"
   ]
  },
  {
   "cell_type": "code",
   "execution_count": 38,
   "metadata": {},
   "outputs": [
    {
     "data": {
      "text/plain": [
       "5"
      ]
     },
     "execution_count": 38,
     "metadata": {},
     "output_type": "execute_result"
    }
   ],
   "source": [
    "studio_nan_count = movie_gross_df['studio'].isna().sum()\n",
    "studio_nan_count"
   ]
  },
  {
   "cell_type": "code",
   "execution_count": 39,
   "metadata": {},
   "outputs": [
    {
     "name": "stdout",
     "output_type": "stream",
     "text": [
      "                              title studio  domestic_gross  foreign_gross  \\\n",
      "210   Outside the Law (Hors-la-loi)    NaN         96900.0      3300000.0   \n",
      "555         Fireflies in the Garden    NaN         70600.0      3300000.0   \n",
      "933           Keith Lemon: The Film    NaN             NaN      4000000.0   \n",
      "1862                 Plot for Peace    NaN          7100.0            NaN   \n",
      "2825               Secret Superstar    NaN             NaN    122000000.0   \n",
      "\n",
      "      year  \n",
      "210   2010  \n",
      "555   2011  \n",
      "933   2012  \n",
      "1862  2014  \n",
      "2825  2017  \n"
     ]
    }
   ],
   "source": [
    "studio_nan_rows = movie_gross_df[movie_gross_df['studio'].isna()]\n",
    "print(studio_nan_rows)"
   ]
  },
  {
   "cell_type": "code",
   "execution_count": 40,
   "metadata": {},
   "outputs": [],
   "source": [
    "movie_gross_df_cleaned = movie_gross_df.dropna(subset=['studio'])"
   ]
  },
  {
   "cell_type": "code",
   "execution_count": 41,
   "metadata": {},
   "outputs": [
    {
     "name": "stdout",
     "output_type": "stream",
     "text": [
      "<class 'pandas.core.frame.DataFrame'>\n",
      "Index: 3382 entries, 0 to 3386\n",
      "Data columns (total 5 columns):\n",
      " #   Column          Non-Null Count  Dtype  \n",
      "---  ------          --------------  -----  \n",
      " 0   title           3382 non-null   object \n",
      " 1   studio          3382 non-null   object \n",
      " 2   domestic_gross  3356 non-null   float64\n",
      " 3   foreign_gross   2033 non-null   float64\n",
      " 4   year            3382 non-null   int64  \n",
      "dtypes: float64(2), int64(1), object(2)\n",
      "memory usage: 158.5+ KB\n"
     ]
    }
   ],
   "source": [
    "movie_gross_df_cleaned.info()"
   ]
  },
  {
   "cell_type": "code",
   "execution_count": 42,
   "metadata": {},
   "outputs": [],
   "source": [
    "movie_gross_df_cleaned = movie_gross_df.dropna(subset=['domestic_gross'])"
   ]
  },
  {
   "cell_type": "code",
   "execution_count": 43,
   "metadata": {},
   "outputs": [
    {
     "name": "stdout",
     "output_type": "stream",
     "text": [
      "<class 'pandas.core.frame.DataFrame'>\n",
      "Index: 3359 entries, 0 to 3386\n",
      "Data columns (total 5 columns):\n",
      " #   Column          Non-Null Count  Dtype  \n",
      "---  ------          --------------  -----  \n",
      " 0   title           3359 non-null   object \n",
      " 1   studio          3356 non-null   object \n",
      " 2   domestic_gross  3359 non-null   float64\n",
      " 3   foreign_gross   2009 non-null   float64\n",
      " 4   year            3359 non-null   int64  \n",
      "dtypes: float64(2), int64(1), object(2)\n",
      "memory usage: 157.5+ KB\n"
     ]
    }
   ],
   "source": [
    "movie_gross_df_cleaned.info()"
   ]
  },
  {
   "cell_type": "code",
   "execution_count": 44,
   "metadata": {},
   "outputs": [],
   "source": [
    "movie_gross_df_cleaned = movie_gross_df.dropna(subset=['studio', 'domestic_gross'])"
   ]
  },
  {
   "cell_type": "code",
   "execution_count": 45,
   "metadata": {},
   "outputs": [
    {
     "name": "stdout",
     "output_type": "stream",
     "text": [
      "<class 'pandas.core.frame.DataFrame'>\n",
      "Index: 3356 entries, 0 to 3386\n",
      "Data columns (total 5 columns):\n",
      " #   Column          Non-Null Count  Dtype  \n",
      "---  ------          --------------  -----  \n",
      " 0   title           3356 non-null   object \n",
      " 1   studio          3356 non-null   object \n",
      " 2   domestic_gross  3356 non-null   float64\n",
      " 3   foreign_gross   2007 non-null   float64\n",
      " 4   year            3356 non-null   int64  \n",
      "dtypes: float64(2), int64(1), object(2)\n",
      "memory usage: 157.3+ KB\n",
      "None\n"
     ]
    }
   ],
   "source": [
    "print(movie_gross_df_cleaned.info())"
   ]
  },
  {
   "cell_type": "code",
   "execution_count": null,
   "metadata": {},
   "outputs": [],
   "source": [
    "#from datetime import datetime"
   ]
  },
  {
   "cell_type": "code",
   "execution_count": null,
   "metadata": {},
   "outputs": [],
   "source": []
  },
  {
   "cell_type": "code",
   "execution_count": null,
   "metadata": {},
   "outputs": [],
   "source": [
    "#movie_gross_df['year'] = pd.to_datetime(movie_gross_df['year'], format='%Y')"
   ]
  },
  {
   "cell_type": "code",
   "execution_count": null,
   "metadata": {},
   "outputs": [],
   "source": [
    "#current_year = datetime.now().year"
   ]
  },
  {
   "cell_type": "code",
   "execution_count": null,
   "metadata": {},
   "outputs": [],
   "source": [
    "last_ten_years_df = movie_gross_df[movie_gross_df['year'].dt.year >= current_year - 10]"
   ]
  },
  {
   "cell_type": "code",
   "execution_count": null,
   "metadata": {},
   "outputs": [],
   "source": [
    "last_ten_years_df"
   ]
  },
  {
   "cell_type": "code",
   "execution_count": null,
   "metadata": {},
   "outputs": [],
   "source": [
    "last_ten_years_df = pd.read_sql (\"\"\"\n",
    "SELECT title,\n",
    "    studio,\n",
    "    domestic_gross,\n",
    "    foreign_gross,\n",
    "    SUM(domestic_gross + foreign_gross) AS total_gross,\n",
    "    year\n",
    "FROM movie_gross_data\n",
    "ORDER BY total_gross, year;\n",
    "\"\"\", conn)\n",
    "last_ten_years_df"
   ]
  },
  {
   "cell_type": "code",
   "execution_count": null,
   "metadata": {},
   "outputs": [],
   "source": [
    "cur.execute(\"\"\" \n",
    "SELECT *\n",
    "FROM movie_gross_data;\n",
    "\"\"\")\n",
    "cur.fetchall()"
   ]
  },
  {
   "cell_type": "code",
   "execution_count": null,
   "metadata": {},
   "outputs": [],
   "source": [
    "movie_gross_df = pd.read_sql (\"\"\"\n",
    "SELECT *\n",
    "FROM movie_gross_data;\n",
    "\"\"\", conn)\n",
    "movie_gross_df"
   ]
  },
  {
   "cell_type": "code",
   "execution_count": null,
   "metadata": {},
   "outputs": [],
   "source": [
    "movie_gross_df = pd.read_sql (\"\"\"\n",
    "SELECT title,\n",
    "    studio,\n",
    "    domestic_gross,\n",
    "    foreign_gross,\n",
    "    SUM(domestic_gross + foreign_gross) AS total_gross,\n",
    "    year\n",
    "FROM movie_gross_data\n",
    "ORDER BY total_gross DESC;\n",
    "\"\"\", conn)\n",
    "movie_gross_df"
   ]
  },
  {
   "cell_type": "code",
   "execution_count": null,
   "metadata": {},
   "outputs": [],
   "source": [
    "movie_gross_df = pd.read_sql (\"\"\"\n",
    "SELECT title,\n",
    "    studio,\n",
    "    domestic_gross,\n",
    "    foreign_gross,\n",
    "    domestic_gross + foreign_gross AS total_gross,\n",
    "    year\n",
    "FROM movie_gross_data\n",
    "ORDER BY total_gross DESC;\n",
    "\"\"\", conn)\n",
    "movie_gross_df"
   ]
  },
  {
   "cell_type": "code",
   "execution_count": null,
   "metadata": {},
   "outputs": [],
   "source": [
    "movie_gross_df = pd.read_sql (\"\"\"\n",
    "SELECT title,\n",
    "    studio,\n",
    "    domestic_gross,\n",
    "    foreign_gross,\n",
    "    domestic_gross + foreign_gross AS total_gross,\n",
    "    year\n",
    "FROM movie_gross_data\n",
    "WHERE year BETWEEN 2012 AND 2023\n",
    "ORDER BY total_gross DESC;\n",
    "\"\"\", conn)\n",
    "movie_gross_df.head(20)"
   ]
  },
  {
   "cell_type": "code",
   "execution_count": null,
   "metadata": {},
   "outputs": [],
   "source": [
    "movie_gross_df = pd.read_sql (\"\"\"\n",
    "SELECT title,\n",
    "    studio,\n",
    "    domestic_gross,\n",
    "    foreign_gross,\n",
    "    domestic_gross + foreign_gross AS total_gross,\n",
    "    year\n",
    "FROM movie_gross_data\n",
    "WHERE year BETWEEN 2012 AND 2023\n",
    "ORDER BY total_gross AND year DESC;\n",
    "\"\"\", conn)\n",
    "movie_gross_df.head(20)"
   ]
  },
  {
   "cell_type": "code",
   "execution_count": null,
   "metadata": {},
   "outputs": [],
   "source": [
    "movie_gross_df['studio'].unique()"
   ]
  },
  {
   "cell_type": "code",
   "execution_count": null,
   "metadata": {},
   "outputs": [],
   "source": [
    "movie_gross_df = pd.read_sql (\"\"\"\n",
    "SELECT studio,\n",
    "    MAX(title) AS top_movie,\n",
    "    domestic_gross + foreign_gross AS total_gross,\n",
    "    year\n",
    "FROM movie_gross_data\n",
    "WHERE year BETWEEN 2012 AND 2023\n",
    "GROUP BY studio\n",
    "ORDER BY total_gross DESC;\n",
    "\"\"\", conn)\n",
    "movie_gross_df.head(20)"
   ]
  },
  {
   "cell_type": "code",
   "execution_count": null,
   "metadata": {},
   "outputs": [],
   "source": [
    "movie_gross_df = pd.read_sql (\"\"\"\n",
    "SELECT title,\n",
    "    studio,\n",
    "    domestic_gross + foreign_gross AS total_gross,\n",
    "    year\n",
    "FROM movie_gross_data\n",
    "WHERE year BETWEEN 2012 AND 2023\n",
    "GROUP BY studio\n",
    "ORDER BY total_gross DESC;\n",
    "\"\"\", conn)\n",
    "movie_gross_df.head(20)"
   ]
  },
  {
   "cell_type": "code",
   "execution_count": null,
   "metadata": {},
   "outputs": [],
   "source": [
    "movie_gross_df['year'].unique()"
   ]
  },
  {
   "cell_type": "markdown",
   "metadata": {},
   "source": [
    "opening im.db.zip file"
   ]
  },
  {
   "cell_type": "code",
   "execution_count": null,
   "metadata": {},
   "outputs": [],
   "source": [
    "# Step 1: Extract the SQLite database from the zip archive\n",
    "zip_file_path = 'zippedData/im.db.zip'\n",
    "extracted_folder = 'extracted_data'\n",
    "\n",
    "with zipfile.ZipFile(zip_file_path, 'r') as zip_ref:\n",
    "    zip_ref.extractall(extracted_folder)"
   ]
  },
  {
   "cell_type": "code",
   "execution_count": null,
   "metadata": {},
   "outputs": [],
   "source": [
    "# Step 2: Connect to the SQLite database\n",
    "db_file_path = os.path.join(extracted_folder, 'im.db')\n",
    "conn = sqlite3.connect(db_file_path)\n"
   ]
  },
  {
   "cell_type": "code",
   "execution_count": null,
   "metadata": {},
   "outputs": [],
   "source": [
    "# Step 3: Query the database using SQL or use pandas to read tables into DataFrames\n",
    "# Example: Read a table into a DataFrame\n",
    "df = pd.read_sql(\"\"\" \n",
    "SELECT *\n",
    "FROM movie_ratings;\n",
    "\"\"\", conn)\n",
    "df"
   ]
  },
  {
   "cell_type": "code",
   "execution_count": null,
   "metadata": {},
   "outputs": [],
   "source": [
    "query_tables = \"SELECT name FROM sqlite_master WHERE type='table';\"\n",
    "tables = pd.read_sql(query_tables, conn)\n",
    "print(tables)"
   ]
  },
  {
   "cell_type": "code",
   "execution_count": null,
   "metadata": {},
   "outputs": [],
   "source": [
    "df = pd.read_sql(\"\"\" \n",
    "SELECT *\n",
    "FROM movie_basics;\n",
    "\"\"\", conn)\n",
    "df"
   ]
  },
  {
   "cell_type": "code",
   "execution_count": null,
   "metadata": {},
   "outputs": [],
   "source": [
    "df = pd.read_sql(\"\"\" \n",
    "SELECT *\n",
    "FROM movie_akas;\n",
    "\"\"\", conn)\n",
    "df"
   ]
  },
  {
   "cell_type": "code",
   "execution_count": null,
   "metadata": {},
   "outputs": [],
   "source": [
    "df = pd.read_sql(\"\"\" \n",
    "SELECT *\n",
    "FROM directors;\n",
    "\"\"\", conn)\n",
    "df"
   ]
  },
  {
   "cell_type": "code",
   "execution_count": null,
   "metadata": {},
   "outputs": [],
   "source": [
    "df = pd.read_sql(\"\"\" \n",
    "SELECT *\n",
    "FROM known_for;\n",
    "\"\"\", conn)\n",
    "df"
   ]
  },
  {
   "cell_type": "code",
   "execution_count": null,
   "metadata": {},
   "outputs": [],
   "source": [
    "df = pd.read_sql(\"\"\" \n",
    "SELECT *\n",
    "FROM persons;\n",
    "\"\"\", conn)\n",
    "df"
   ]
  },
  {
   "cell_type": "code",
   "execution_count": null,
   "metadata": {},
   "outputs": [],
   "source": [
    "df = pd.read_sql(\"\"\" \n",
    "SELECT mb.primary_title,\n",
    "    mb.start_year,\n",
    "    mb.genres,\n",
    "    mr.averagerating,\n",
    "    mr.numvotes\n",
    "FROM movie_basics AS mb\n",
    "JOIN movie_ratings AS mr ON mb.movie_id = mr.movie_id;\n",
    "\"\"\", conn)\n",
    "df"
   ]
  },
  {
   "cell_type": "code",
   "execution_count": null,
   "metadata": {},
   "outputs": [],
   "source": [
    "df = pd.read_sql(\"\"\" \n",
    "SELECT mb.primary_title,\n",
    "    mb.start_year,\n",
    "    mb.genres,\n",
    "    mr.averagerating,\n",
    "    mr.numvotes\n",
    "FROM movie_basics AS mb\n",
    "JOIN movie_ratings AS mr ON mb.movie_id = mr.movie_id\n",
    "WHERE averagerating >= 6.5;\n",
    "\"\"\", conn)\n",
    "df"
   ]
  },
  {
   "cell_type": "code",
   "execution_count": null,
   "metadata": {},
   "outputs": [],
   "source": [
    "df = pd.read_sql(\"\"\" \n",
    "SELECT mb.primary_title,\n",
    "    mb.start_year,\n",
    "    mb.genres,\n",
    "    mr.averagerating,\n",
    "    mr.numvotes\n",
    "FROM movie_basics AS mb\n",
    "JOIN movie_ratings AS mr ON mb.movie_id = mr.movie_id\n",
    "WHERE numvotes > 50 AND\n",
    "averagerating >= 6.5;\n",
    "\"\"\", conn)\n",
    "df"
   ]
  },
  {
   "cell_type": "code",
   "execution_count": null,
   "metadata": {},
   "outputs": [],
   "source": [
    "df = pd.read_sql(\"\"\" \n",
    "SELECT mb.primary_title,\n",
    "    mb.start_year,\n",
    "    mb.genres,\n",
    "    mr.averagerating,\n",
    "    mr.numvotes\n",
    "FROM movie_basics AS mb\n",
    "JOIN movie_ratings AS mr ON mb.movie_id = mr.movie_id\n",
    "WHERE numvotes > 100 AND\n",
    "averagerating >= 6.5\n",
    "ORDER BY averagerating DESC;\n",
    "\"\"\", conn)\n",
    "df.head(25)"
   ]
  },
  {
   "cell_type": "code",
   "execution_count": null,
   "metadata": {},
   "outputs": [],
   "source": [
    "df['genres'].unique()"
   ]
  },
  {
   "cell_type": "code",
   "execution_count": null,
   "metadata": {},
   "outputs": [],
   "source": [
    "df = pd.read_sql(\"\"\" \n",
    "SELECT mb.primary_title,\n",
    "    mb.start_year,\n",
    "    mb.genres,\n",
    "    mr.averagerating,\n",
    "    mr.numvotes\n",
    "FROM movie_basics AS mb\n",
    "JOIN movie_ratings AS mr ON mb.movie_id = mr.movie_id\n",
    "WHERE numvotes > 100 AND\n",
    "averagerating >= 6.5 AND\n",
    "genres = 'Horror'\n",
    "ORDER BY averagerating DESC;\n",
    "\"\"\", conn)\n",
    "df.head(25)"
   ]
  },
  {
   "cell_type": "code",
   "execution_count": null,
   "metadata": {},
   "outputs": [],
   "source": [
    "df = pd.read_sql(\"\"\" \n",
    "SELECT mb.primary_title,\n",
    "    mb.start_year,\n",
    "    mb.genres,\n",
    "    mr.averagerating,\n",
    "    mr.numvotes\n",
    "FROM movie_basics AS mb\n",
    "JOIN movie_ratings AS mr ON mb.movie_id = mr.movie_id\n",
    "WHERE numvotes > 100 AND\n",
    "averagerating >= 6.5 AND\n",
    "genres LIKE '%Horror%'\n",
    "ORDER BY averagerating DESC;\n",
    "\"\"\", conn)\n",
    "df.head(25)"
   ]
  },
  {
   "cell_type": "code",
   "execution_count": null,
   "metadata": {},
   "outputs": [],
   "source": [
    "# opening up tn.movie_budgets.csv.gz"
   ]
  },
  {
   "cell_type": "code",
   "execution_count": null,
   "metadata": {},
   "outputs": [],
   "source": [
    "path = 'zippedData/tn.movie_budgets.csv.gz'\n",
    "\n",
    "movie_budget_df = pd.read_csv('zippedData/tn.movie_budgets.csv.gz', compression='gzip', header=0, sep=',', quotechar='\"')\n",
    "conn = sqlite3.connect('data.sqlite')\n",
    "table_name = 'movie_budget_data'\n",
    "movie_budget_df.to_sql(table_name, conn, index=False, if_exists='replace')\n",
    "#movie_gross_df.head()\n",
    "#conn = sqlite3.connect('movie_gross_df')\n",
    "#df = pd.read_csv('filename.zip', compression='zip', header=0, sep=',', quotechar='\"')"
   ]
  },
  {
   "cell_type": "code",
   "execution_count": null,
   "metadata": {},
   "outputs": [],
   "source": [
    "movie_budget_df.head()"
   ]
  },
  {
   "cell_type": "code",
   "execution_count": null,
   "metadata": {},
   "outputs": [],
   "source": [
    "cur = conn.cursor()\n",
    "cur.execute(\"\"\" \n",
    "SELECT name\n",
    "FROM sqlite_master\n",
    "WHERE type = 'table';\n",
    "\"\"\")\n",
    "table_names = cur.fetchall()\n",
    "print(table_names)"
   ]
  },
  {
   "cell_type": "code",
   "execution_count": null,
   "metadata": {},
   "outputs": [],
   "source": [
    "movie_budget_df = pd.read_sql (\"\"\"\n",
    "SELECT *\n",
    "FROM movie_budget_data;\n",
    "\"\"\", conn)\n",
    "movie_budget_df"
   ]
  },
  {
   "cell_type": "code",
   "execution_count": null,
   "metadata": {},
   "outputs": [],
   "source": [
    "movie_budget_df.info"
   ]
  },
  {
   "cell_type": "code",
   "execution_count": null,
   "metadata": {},
   "outputs": [],
   "source": [
    "movie_budget_df.info()"
   ]
  },
  {
   "cell_type": "code",
   "execution_count": null,
   "metadata": {},
   "outputs": [],
   "source": [
    "movie_budget_df.describe()"
   ]
  },
  {
   "cell_type": "code",
   "execution_count": null,
   "metadata": {},
   "outputs": [],
   "source": [
    "movie_budget_df.shape"
   ]
  },
  {
   "cell_type": "code",
   "execution_count": null,
   "metadata": {},
   "outputs": [],
   "source": [
    "#looking into rt.reviews.tsv.gz"
   ]
  },
  {
   "cell_type": "code",
   "execution_count": null,
   "metadata": {},
   "outputs": [],
   "source": [
    "path = 'zippedData/rt.reviews.tsv.gz'\n",
    "\n",
    "reviews_df = pd.read_csv('zippedData/rt.reviews.tsv.gz', delimiter='\\t', compression='gzip', header=0, quotechar='\"', encoding='latin1')\n",
    "conn = sqlite3.connect('data.sqlite')\n",
    "table_name = 'reviews_data'\n",
    "reviews_df.to_sql(table_name, conn, index=False, if_exists='replace')\n",
    "#movie_gross_df.head()\n",
    "#conn = sqlite3.connect('movie_gross_df')\n",
    "#df = pd.read_csv('filename.zip', compression='zip', header=0, sep=',', quotechar='\"')"
   ]
  },
  {
   "cell_type": "code",
   "execution_count": null,
   "metadata": {},
   "outputs": [],
   "source": [
    "reviews_df.head()"
   ]
  },
  {
   "cell_type": "code",
   "execution_count": null,
   "metadata": {},
   "outputs": [],
   "source": [
    "reviews_df.shape"
   ]
  },
  {
   "cell_type": "code",
   "execution_count": null,
   "metadata": {},
   "outputs": [],
   "source": [
    "reviews_df.info()"
   ]
  },
  {
   "cell_type": "code",
   "execution_count": null,
   "metadata": {},
   "outputs": [],
   "source": [
    "reviews_df.describe()"
   ]
  },
  {
   "cell_type": "code",
   "execution_count": null,
   "metadata": {},
   "outputs": [],
   "source": [
    "cur = conn.cursor()\n",
    "cur.execute(\"\"\" \n",
    "SELECT name\n",
    "FROM sqlite_master\n",
    "WHERE type = 'table';\n",
    "\"\"\")\n",
    "table_names = cur.fetchall()\n",
    "print(table_names)"
   ]
  },
  {
   "cell_type": "code",
   "execution_count": null,
   "metadata": {},
   "outputs": [],
   "source": [
    "reviews_df = pd.read_sql (\"\"\"\n",
    "SELECT *\n",
    "FROM reviews_data;\n",
    "\"\"\", conn)\n",
    "reviews_df"
   ]
  },
  {
   "cell_type": "code",
   "execution_count": null,
   "metadata": {},
   "outputs": [],
   "source": [
    "reviews_df = pd.read_sql (\"\"\"\n",
    "SELECT *\n",
    "FROM reviews_data\n",
    "ORDER BY fresh DESC;\n",
    "\"\"\", conn)\n",
    "reviews_df"
   ]
  },
  {
   "cell_type": "markdown",
   "metadata": {},
   "source": [
    "#exploring rt.movie_info.tsv.gz"
   ]
  },
  {
   "cell_type": "code",
   "execution_count": null,
   "metadata": {},
   "outputs": [],
   "source": [
    "path = 'zippedData/rt.movie_info.tsv.gz'\n",
    "\n",
    "movie_info_df = pd.read_csv('zippedData/rt.movie_info.tsv.gz', delimiter='\\t', compression='gzip', header=0, quotechar='\"', encoding='latin1')\n",
    "conn = sqlite3.connect('data.sqlite')\n",
    "table_name = 'movie_info_data'\n",
    "reviews_df.to_sql(table_name, conn, index=False, if_exists='replace')"
   ]
  },
  {
   "cell_type": "code",
   "execution_count": null,
   "metadata": {},
   "outputs": [],
   "source": [
    "cur = conn.cursor()\n",
    "cur.execute(\"\"\" \n",
    "SELECT name\n",
    "FROM sqlite_master\n",
    "WHERE type = 'table';\n",
    "\"\"\")\n",
    "table_names = cur.fetchall()\n",
    "print(table_names)"
   ]
  },
  {
   "cell_type": "code",
   "execution_count": null,
   "metadata": {},
   "outputs": [],
   "source": [
    "movie_info_df.info()"
   ]
  },
  {
   "cell_type": "code",
   "execution_count": null,
   "metadata": {},
   "outputs": [],
   "source": [
    "movie_info_df.shape"
   ]
  },
  {
   "cell_type": "code",
   "execution_count": null,
   "metadata": {},
   "outputs": [],
   "source": [
    "movie_info_df.describe()"
   ]
  },
  {
   "cell_type": "code",
   "execution_count": null,
   "metadata": {},
   "outputs": [],
   "source": [
    "movie_info_df.head()"
   ]
  },
  {
   "cell_type": "code",
   "execution_count": null,
   "metadata": {},
   "outputs": [],
   "source": [
    "movie_info_df = pd.read_sql (\"\"\"\n",
    "SELECT *\n",
    "FROM movie_info_data;\n",
    "\"\"\", conn)\n",
    "movie_info_df"
   ]
  },
  {
   "cell_type": "code",
   "execution_count": null,
   "metadata": {},
   "outputs": [],
   "source": [
    "movie_info_df.info()"
   ]
  },
  {
   "cell_type": "code",
   "execution_count": null,
   "metadata": {},
   "outputs": [],
   "source": [
    "path = 'zippedData/tmdb.movies.csv.gz'\n",
    "\n",
    "tmdb_movies_df = pd.read_csv('zippedData/tmdb.movies.csv.gz', compression='gzip', header=0, sep=',', quotechar='\"')\n",
    "conn = sqlite3.connect('data.sqlite')\n",
    "table_name = 'tmdb_movies_data'\n",
    "reviews_df.to_sql(table_name, conn, index=False, if_exists='replace')"
   ]
  },
  {
   "cell_type": "code",
   "execution_count": null,
   "metadata": {},
   "outputs": [],
   "source": [
    "cur = conn.cursor()\n",
    "cur.execute(\"\"\" \n",
    "SELECT name\n",
    "FROM sqlite_master\n",
    "WHERE type = 'table';\n",
    "\"\"\")\n",
    "table_names = cur.fetchall()\n",
    "print(table_names)"
   ]
  },
  {
   "cell_type": "code",
   "execution_count": null,
   "metadata": {},
   "outputs": [],
   "source": [
    "tmdb_movies_df.info()"
   ]
  },
  {
   "cell_type": "code",
   "execution_count": null,
   "metadata": {},
   "outputs": [],
   "source": [
    "tmdb_movies_df.shape"
   ]
  },
  {
   "cell_type": "code",
   "execution_count": null,
   "metadata": {},
   "outputs": [],
   "source": [
    "tmdb_movies_df.describe()"
   ]
  },
  {
   "cell_type": "code",
   "execution_count": null,
   "metadata": {},
   "outputs": [],
   "source": [
    "tmdb_movies_df.head()"
   ]
  },
  {
   "cell_type": "code",
   "execution_count": null,
   "metadata": {},
   "outputs": [],
   "source": []
  }
 ],
 "metadata": {
  "kernelspec": {
   "display_name": "Python (learn-env)",
   "language": "python",
   "name": "learn-env"
  },
  "language_info": {
   "codemirror_mode": {
    "name": "ipython",
    "version": 3
   },
   "file_extension": ".py",
   "mimetype": "text/x-python",
   "name": "python",
   "nbconvert_exporter": "python",
   "pygments_lexer": "ipython3",
   "version": "3.8.5"
  }
 },
 "nbformat": 4,
 "nbformat_minor": 4
}
